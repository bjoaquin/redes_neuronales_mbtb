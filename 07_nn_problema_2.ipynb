{
 "cells": [
  {
   "cell_type": "markdown",
   "id": "80uWOXIX4aFC",
   "metadata": {
    "id": "80uWOXIX4aFC"
   },
   "source": [
    "# Problema 2: Zona de destino (Clasificación múltiple)"
   ]
  },
  {
   "cell_type": "markdown",
   "id": "e616cddb",
   "metadata": {
    "id": "e616cddb"
   },
   "source": [
    "#### Carga de librerías"
   ]
  },
  {
   "cell_type": "code",
   "execution_count": null,
   "id": "80df9a6f",
   "metadata": {
    "id": "80df9a6f"
   },
   "outputs": [],
   "source": [
    "import pandas as pd\n",
    "import numpy as np\n",
    "\n",
    "from sklearn.preprocessing import StandardScaler, OneHotEncoder\n",
    "from sklearn.compose import make_column_transformer\n",
    "from sklearn.model_selection import GroupShuffleSplit\n",
    "from sklearn.model_selection import train_test_split\n",
    "from sklearn.model_selection import GridSearchCV\n",
    "from sklearn.pipeline import make_pipeline\n",
    "from sklearn.impute import SimpleImputer\n",
    "from sklearn.metrics import roc_curve, auc\n",
    "from sklearn.metrics import accuracy_score\n",
    "from sklearn.metrics import confusion_matrix\n",
    "\n",
    "import matplotlib.pyplot as plt\n",
    "%matplotlib inline\n",
    "import seaborn as sns\n",
    "\n",
    "from tensorflow import keras\n",
    "from tensorflow.keras import layers\n",
    "from tensorflow.keras import callbacks\n",
    "from keras.wrappers.scikit_learn import KerasClassifier"
   ]
  },
  {
   "cell_type": "markdown",
   "id": "f4994f9b",
   "metadata": {
    "id": "f4994f9b"
   },
   "source": [
    "#### Configuración de figuras"
   ]
  },
  {
   "cell_type": "code",
   "execution_count": null,
   "id": "42c3e33d",
   "metadata": {
    "id": "42c3e33d"
   },
   "outputs": [],
   "source": [
    "plt.style.use('seaborn-whitegrid')\n",
    "plt.rc('figure', autolayout=True)\n",
    "\n",
    "plt.rc('font', size=10)          # controls default text sizes (?)\n",
    "plt.rc('axes', titlesize=20)     # fontsize of the graph title\n",
    "plt.rc('axes', labelsize=24)     # fontsize of the x and y axes titles\n",
    "plt.rc('xtick', labelsize=17.5)    # fontsize of the tick labels\n",
    "plt.rc('ytick', labelsize=17.5)    # fontsize of the tick labels\n",
    "plt.rc('legend', fontsize=22.5)    # legend fontsize\n",
    "plt.rc('figure', titlesize=50)\n",
    "plt.rc('animation', html='html5')"
   ]
  },
  {
   "cell_type": "markdown",
   "id": "c562cb8c",
   "metadata": {
    "id": "c562cb8c"
   },
   "source": [
    "#### Carga de datos"
   ]
  },
  {
   "cell_type": "code",
   "execution_count": null,
   "id": "f4f78eb6",
   "metadata": {
    "colab": {
     "base_uri": "https://localhost:8080/",
     "height": 317
    },
    "id": "f4f78eb6",
    "outputId": "9548b506-2ef3-451d-d565-2ebab56f31d0"
   },
   "outputs": [],
   "source": [
    "df = pd.read_csv('2_train.csv', index_col=0)\n",
    "\n",
    "df_test = pd.read_csv('2_test.csv', index_col=0)\n",
    "\n",
    "df.head()"
   ]
  },
  {
   "cell_type": "code",
   "execution_count": null,
   "id": "PNmeCTQ6ycAH",
   "metadata": {
    "id": "PNmeCTQ6ycAH"
   },
   "outputs": [],
   "source": [
    "df.destination_station_num -= 1\n",
    "df_test.destination_station_num -= 1\n",
    "\n",
    "df.destination_group -= 1\n",
    "df_test.destination_group -= 1"
   ]
  },
  {
   "cell_type": "markdown",
   "id": "1ff111d0",
   "metadata": {
    "id": "1ff111d0"
   },
   "source": [
    "#### Procesamiento de datos para el ingreso a la red neuronal"
   ]
  },
  {
   "cell_type": "code",
   "execution_count": null,
   "id": "748ea462",
   "metadata": {
    "colab": {
     "base_uri": "https://localhost:8080/"
    },
    "id": "748ea462",
    "outputId": "b8c61041-a62a-4378-8415-e3c06db4e92f"
   },
   "outputs": [],
   "source": [
    "X = df.copy()\n",
    "y = X.pop('destination_group')\n",
    "\n",
    "X_test = df_test.copy()\n",
    "y_test = X_test.pop('destination_group')\n",
    "\n",
    "features_num = ['origin_time', 'n_viajes'] + ['s'+str(i) for i in range(1,73)]\n",
    "features_cat = ['origin_date_name', 'origin_month', 'origin_station_num']\n",
    "\n",
    "transformer_num = make_pipeline(\n",
    "    SimpleImputer(strategy=\"constant\"), # manejo de valores faltantes\n",
    "    StandardScaler(),                   # estandarización\n",
    ")\n",
    "transformer_cat = make_pipeline(\n",
    "    SimpleImputer(strategy=\"constant\", fill_value=\"NA\"), # manejo de valores faltantes\n",
    "    OneHotEncoder(handle_unknown='ignore', sparse = True),\n",
    ")\n",
    "preprocessor = make_column_transformer(\n",
    "    (transformer_num, features_num),\n",
    "    (transformer_cat, features_cat),\n",
    ")\n",
    "\n",
    "# Partición aleatoria en entrenamiento (75%) y validación (25%)\n",
    "X_train, X_valid, y_train, y_valid = train_test_split(X, y, train_size=0.75, random_state=22, shuffle=False)\n",
    "\n",
    "print('shape = ', X_train.shape)\n",
    "print('valid = ', X_valid.shape)\n",
    "\n",
    "X_train = preprocessor.fit_transform(X_train)\n",
    "X_valid = preprocessor.transform(X_valid)\n",
    "X_test = preprocessor.transform(X_test)\n",
    "\n",
    "print('shape = ', X_train.shape)\n",
    "print('valid = ', X_valid.shape)\n",
    "\n",
    "input_shape = [X_train.shape[1]]\n",
    "print(\"Input shape: {}\".format(input_shape))"
   ]
  },
  {
   "cell_type": "markdown",
   "id": "zYdUackl5seN",
   "metadata": {
    "id": "zYdUackl5seN"
   },
   "source": [
    "#### Grid Search"
   ]
  },
  {
   "cell_type": "code",
   "execution_count": null,
   "id": "djRBog2ZOB-Y",
   "metadata": {
    "colab": {
     "base_uri": "https://localhost:8080/"
    },
    "id": "djRBog2ZOB-Y",
    "outputId": "5b0a02c7-b8f1-4b4d-b173-0d5a8e407691"
   },
   "outputs": [],
   "source": [
    "# Función con hiperparámetros a optimizar\n",
    "def create_model(optimizer='adam', activation = 'sigmoid', hidden_layers=2, hidden_size=16):\n",
    "  # Inicializar el constructor\n",
    "    model = keras.Sequential()\n",
    "      # Capa de entrada\n",
    "    model.add(layers.BatchNormalization(input_shape = input_shape))\n",
    "\n",
    "    if activation == 'relu':\n",
    "      initializer = 'he_normal'\n",
    "    else:\n",
    "      initializer = 'glorot_normal'\n",
    "\n",
    "    for i in range(hidden_layers):\n",
    "        # Capa oculta\n",
    "        model.add(layers.Dense(hidden_size, activation=activation, kernel_initializer=initializer))\n",
    "\n",
    "      # Capa de salida \n",
    "    model.add(layers.Dense(8, activation='softmax'))\n",
    "      # Compilar el modelo\n",
    "    model.compile(loss='categorical_crossentropy', optimizer=optimizer, metrics=['accuracy'])\n",
    "    return model\n",
    "\n",
    "# Modelo a utilizar como input de la función GridSearchCV\n",
    "modelCV = KerasClassifier(build_fn=create_model, verbose=0)"
   ]
  },
  {
   "cell_type": "code",
   "execution_count": null,
   "id": "tUsr4mDwQJyr",
   "metadata": {
    "colab": {
     "base_uri": "https://localhost:8080/"
    },
    "id": "tUsr4mDwQJyr",
    "outputId": "5ccdc402-b1de-4e96-8ee2-4511496138bf",
    "scrolled": true
   },
   "outputs": [],
   "source": [
    "# Diccionario con grilla de valores de hiperparámetros\n",
    "param_grid = dict(\n",
    "    hidden_layers = [1, 2], \n",
    "    hidden_size = [32, 64, 128], \n",
    "    activation = ['relu', 'tanh'], \n",
    "    optimizer = ['rmsprop', 'sgd', 'adam'], \n",
    "    batch_size = [10**4], \n",
    "    epochs = [10]\n",
    ")\n",
    "\n",
    "# Implementación de grid search\n",
    "grid = GridSearchCV(estimator=modelCV, param_grid=param_grid, scoring='accuracy')\n",
    "grid_result = grid.fit(X_train, y_train)"
   ]
  },
  {
   "cell_type": "code",
   "execution_count": null,
   "id": "8zATuoEestvw",
   "metadata": {
    "colab": {
     "base_uri": "https://localhost:8080/"
    },
    "id": "8zATuoEestvw",
    "outputId": "806f3b3e-eff0-462a-8ac2-315f9abd4c70"
   },
   "outputs": [],
   "source": [
    "# Imprimir resultados\n",
    "print('Best accuracy:', grid_result.best_score_)\n",
    "grid_result.best_params_"
   ]
  },
  {
   "cell_type": "markdown",
   "id": "28e3ac13",
   "metadata": {
    "id": "28e3ac13"
   },
   "source": [
    "#### Entrenamiento de red"
   ]
  },
  {
   "cell_type": "code",
   "execution_count": null,
   "id": "ROsWCtSB4KRw",
   "metadata": {
    "id": "ROsWCtSB4KRw"
   },
   "outputs": [],
   "source": [
    "y_train = keras.utils.to_categorical(y_train, 8)\n",
    "y_valid = keras.utils.to_categorical(y_valid, 8)\n",
    "y_test = keras.utils.to_categorical(y_test, 8)"
   ]
  },
  {
   "cell_type": "code",
   "execution_count": null,
   "id": "bfb542a5",
   "metadata": {
    "id": "bfb542a5"
   },
   "outputs": [],
   "source": [
    "# Definir el modelo\n",
    "model = keras.Sequential([\n",
    "    layers.BatchNormalization(input_shape = input_shape),\n",
    "    \n",
    "    layers.Dense(128, activation = 'tanh', kernel_initializer='glorot_normal'),\n",
    "    layers.BatchNormalization(),\n",
    "    \n",
    "    layers.Dense(128, activation = 'tanh', kernel_initializer='glorot_normal'),\n",
    "    layers.BatchNormalization(),\n",
    "    \n",
    "    layers.Dense(8, activation = 'softmax')\n",
    "])\n",
    "\n",
    "# Compilar el modelo\n",
    "model.compile(optimizer = 'rmsprop', \n",
    "       loss = keras.losses.CategoricalCrossentropy(),\n",
    "       metrics = [keras.metrics.CategoricalAccuracy()])"
   ]
  },
  {
   "cell_type": "code",
   "execution_count": null,
   "id": "f240aa77",
   "metadata": {
    "colab": {
     "base_uri": "https://localhost:8080/"
    },
    "id": "f240aa77",
    "outputId": "f627aba9-cc88-4344-b097-76aee6e722c3"
   },
   "outputs": [],
   "source": [
    "# Detención temprana\n",
    "early_stopping = keras.callbacks.EarlyStopping(\n",
    "    patience=20,\n",
    "    min_delta=0.01,\n",
    "    restore_best_weights=True,\n",
    ")\n",
    "\n",
    "# Entrenar el modelo\n",
    "history = model.fit(\n",
    "    X_train, y_train,\n",
    "    validation_data=(X_valid, y_valid),\n",
    "    batch_size=10**4,\n",
    "    epochs=100,\n",
    "    callbacks=[early_stopping],\n",
    "    verbose = 0\n",
    ")"
   ]
  },
  {
   "cell_type": "markdown",
   "id": "4ea714b2",
   "metadata": {},
   "source": [
    "#### Guardar modelo"
   ]
  },
  {
   "cell_type": "code",
   "execution_count": null,
   "id": "pSmhiy3cpOb8",
   "metadata": {
    "id": "pSmhiy3cpOb8"
   },
   "outputs": [],
   "source": [
    "model.save(\"model2.h5\")"
   ]
  },
  {
   "cell_type": "markdown",
   "id": "IeXEV1H_1cCO",
   "metadata": {
    "id": "IeXEV1H_1cCO"
   },
   "source": [
    "#### Cargar modelo"
   ]
  },
  {
   "cell_type": "code",
   "execution_count": null,
   "id": "CTokL6tP1bvR",
   "metadata": {
    "id": "CTokL6tP1bvR"
   },
   "outputs": [],
   "source": [
    "from keras.models import load_model\n",
    "model = load_model(\"model2.h5\")"
   ]
  },
  {
   "cell_type": "markdown",
   "id": "54d5cd4d",
   "metadata": {},
   "source": [
    "#### Respuesta predicha"
   ]
  },
  {
   "cell_type": "code",
   "execution_count": null,
   "id": "pfkmr5LxtXNM",
   "metadata": {
    "colab": {
     "base_uri": "https://localhost:8080/"
    },
    "id": "pfkmr5LxtXNM",
    "outputId": "3c29a218-478c-45d2-85c2-b696b2d24a00"
   },
   "outputs": [],
   "source": [
    "y_pred_continuous = model.predict(X_test)    \n",
    "y_pred = np.zeros_like(y_pred_continuous)\n",
    "y_pred[np.arange(len(y_pred_continuous)), y_pred_continuous.argmax(1)] = 1  \n",
    "\n",
    "# Precisión\n",
    "accuracy_score(y_test, y_pred)"
   ]
  },
  {
   "cell_type": "markdown",
   "id": "ce1cbf63",
   "metadata": {},
   "source": [
    "#### Matriz de confusión"
   ]
  },
  {
   "cell_type": "code",
   "execution_count": null,
   "id": "SgmAnK90rbkZ",
   "metadata": {
    "id": "SgmAnK90rbkZ"
   },
   "outputs": [],
   "source": [
    "# Nro. de observaciones en cada celda del heatmap\n",
    "\n",
    "y_test_num = [x.argmax() for x in y_test]\n",
    "y_pred_num = [x.argmax() for x in y_pred]\n",
    "\n",
    "y_tup = [i for i in zip(y_test_num, y_pred_num)]\n",
    "\n",
    "n = []\n",
    "for i in range(8):\n",
    "  ls = []\n",
    "  for j in range(8):\n",
    "    num = len([x for x in y_tup if x[0]==i and x[1]==j])\n",
    "    txt = '(n=' + str(num) + ')'\n",
    "    ls.append(txt)\n",
    "  n.append(ls)"
   ]
  },
  {
   "cell_type": "code",
   "execution_count": null,
   "id": "dAHQwcNhLlM3",
   "metadata": {
    "colab": {
     "base_uri": "https://localhost:8080/",
     "height": 796
    },
    "id": "dAHQwcNhLlM3",
    "outputId": "608afcc9-2dcc-45db-b262-c8c9232c9862"
   },
   "outputs": [],
   "source": [
    "cf_matrix = confusion_matrix(y_test.argmax(axis=1), y_pred.argmax(axis=1), normalize='true')\n",
    "\n",
    "fig, ax = plt.subplots(figsize=(12,9))\n",
    "\n",
    "sns.heatmap(cf_matrix, annot=cf_matrix, annot_kws={'size': 18, 'va': 'bottom'}, fmt='.0%', cmap='Blues', vmin=0, vmax=1, cbar=False)\n",
    "sns.heatmap(cf_matrix, annot=n, annot_kws={'size': 18, 'va': 'top'}, fmt=\"\", cmap='Blues', vmin=0, vmax=1, cbar=False)\n",
    "\n",
    "plt.yticks(rotation=0) \n",
    "\n",
    "ax.set_xlabel('Zona predicha')\n",
    "ax.set_ylabel('Zona observada')\n",
    "\n",
    "ax.set_xticklabels(range(1, 9, 1))\n",
    "ax.set_yticklabels([str(x)+' ' for x in range(1, 9, 1)])"
   ]
  }
 ],
 "metadata": {
  "colab": {
   "provenance": []
  },
  "gpuClass": "standard",
  "kernelspec": {
   "display_name": "Python 3 (ipykernel)",
   "language": "python",
   "name": "python3"
  },
  "language_info": {
   "codemirror_mode": {
    "name": "ipython",
    "version": 3
   },
   "file_extension": ".py",
   "mimetype": "text/x-python",
   "name": "python",
   "nbconvert_exporter": "python",
   "pygments_lexer": "ipython3",
   "version": "3.9.7"
  }
 },
 "nbformat": 4,
 "nbformat_minor": 5
}
