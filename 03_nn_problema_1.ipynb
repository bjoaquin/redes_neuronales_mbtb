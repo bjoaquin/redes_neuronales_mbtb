{
 "cells": [
  {
   "cell_type": "markdown",
   "id": "JoPdX3ZZ3vyG",
   "metadata": {
    "id": "JoPdX3ZZ3vyG"
   },
   "source": [
    "# Problema 1: Resolución de estado desfavorable (Clasificación binaria)"
   ]
  },
  {
   "cell_type": "markdown",
   "id": "e616cddb",
   "metadata": {
    "id": "e616cddb"
   },
   "source": [
    "#### Carga de librerías\n"
   ]
  },
  {
   "cell_type": "code",
   "execution_count": null,
   "id": "80df9a6f",
   "metadata": {
    "id": "80df9a6f"
   },
   "outputs": [],
   "source": [
    "import pandas as pd\n",
    "import numpy as np\n",
    "\n",
    "from sklearn.preprocessing import StandardScaler, OneHotEncoder\n",
    "from sklearn.compose import make_column_transformer\n",
    "from sklearn.model_selection import GroupShuffleSplit\n",
    "from sklearn.model_selection import train_test_split\n",
    "from sklearn.model_selection import GridSearchCV\n",
    "from sklearn.pipeline import make_pipeline\n",
    "from sklearn.impute import SimpleImputer\n",
    "from sklearn.metrics import roc_curve, auc\n",
    "from sklearn.metrics import accuracy_score\n",
    "from sklearn.metrics import confusion_matrix\n",
    "\n",
    "import matplotlib\n",
    "import matplotlib.pyplot as plt\n",
    "%matplotlib inline\n",
    "import seaborn as sns\n",
    "\n",
    "from tensorflow import keras\n",
    "from tensorflow.keras import layers\n",
    "from tensorflow.keras import callbacks\n",
    "from keras.wrappers.scikit_learn import KerasClassifier"
   ]
  },
  {
   "cell_type": "markdown",
   "id": "f4994f9b",
   "metadata": {
    "id": "f4994f9b"
   },
   "source": [
    "#### Configuración de figuras"
   ]
  },
  {
   "cell_type": "code",
   "execution_count": null,
   "id": "42c3e33d",
   "metadata": {
    "id": "42c3e33d"
   },
   "outputs": [],
   "source": [
    "plt.style.use('seaborn-whitegrid')\n",
    "plt.rc('figure', autolayout=True)\n",
    "\n",
    "plt.rc('font', size=10)\n",
    "plt.rc('axes', titlesize=20)\n",
    "plt.rc('axes', labelsize=24)\n",
    "plt.rc('xtick', labelsize=20)\n",
    "plt.rc('ytick', labelsize=20)\n",
    "plt.rc('legend', fontsize=22.5)\n",
    "plt.rc('figure', titlesize=50)\n",
    "plt.rc('animation', html='html5')"
   ]
  },
  {
   "cell_type": "markdown",
   "id": "c562cb8c",
   "metadata": {
    "id": "c562cb8c"
   },
   "source": [
    "#### Carga de datos"
   ]
  },
  {
   "cell_type": "code",
   "execution_count": null,
   "id": "f4f78eb6",
   "metadata": {
    "colab": {
     "base_uri": "https://localhost:8080/",
     "height": 381
    },
    "id": "f4f78eb6",
    "outputId": "f7628c70-9405-4d7e-8ccb-425bc4151405"
   },
   "outputs": [],
   "source": [
    "df = pd.read_csv('1_train.csv', index_col=0)\n",
    "\n",
    "df_test = pd.read_csv('1_test.csv', index_col=0)\n",
    "\n",
    "df.head()"
   ]
  },
  {
   "cell_type": "markdown",
   "id": "1ff111d0",
   "metadata": {
    "id": "1ff111d0"
   },
   "source": [
    "#### Procesamiento de datos para el ingreso a la red neuronal"
   ]
  },
  {
   "cell_type": "code",
   "execution_count": null,
   "id": "748ea462",
   "metadata": {
    "colab": {
     "base_uri": "https://localhost:8080/"
    },
    "id": "748ea462",
    "outputId": "4d70b2e4-901b-46c6-de7b-50fe99964941"
   },
   "outputs": [],
   "source": [
    "X = df.copy()\n",
    "y = X.pop('natural')\n",
    "\n",
    "X_test = df_test.copy()\n",
    "y_test = X_test.pop('natural')\n",
    "\n",
    "features_num = ['time', 'blocked_anchors']\n",
    "features_cat = ['station_num', 'status', 'wday', 'mday', 'month']\n",
    "\n",
    "transformer_num = make_pipeline(\n",
    "    SimpleImputer(strategy=\"median\"), # manejo de valores faltantes\n",
    "    StandardScaler(),                 # estandarización\n",
    ")\n",
    "transformer_cat = make_pipeline(\n",
    "    SimpleImputer(strategy=\"most_frequent\", fill_value=\"NA\"), # manejo de valores faltantes\n",
    "    OneHotEncoder(handle_unknown='ignore', drop=None, sparse = True),\n",
    ")\n",
    "preprocessor = make_column_transformer(\n",
    "    (transformer_num, features_num),\n",
    "    (transformer_cat, features_cat),\n",
    ")\n",
    "\n",
    "# Partición aleatoria en entrenamiento (75%) y validación (25%)\n",
    "X_train, X_valid, y_train, y_valid = train_test_split(X, y, train_size=0.75, random_state=22, shuffle=False)\n",
    "\n",
    "print('shape = ', X_train.shape)\n",
    "print('valid = ', X_valid.shape)\n",
    "\n",
    "X_train = preprocessor.fit_transform(X_train)\n",
    "X_valid = preprocessor.transform(X_valid)\n",
    "X_test = preprocessor.transform(X_test)\n",
    "\n",
    "print('shape = ', X_train.shape)\n",
    "print('valid = ', X_valid.shape)\n",
    "\n",
    "input_shape = [X_train.shape[1]]\n",
    "print(\"Input shape: {}\".format(input_shape))\n",
    "\n",
    "X_train = X_train.toarray()\n",
    "X_valid = X_valid.toarray()\n",
    "X_test = X_test.toarray()"
   ]
  },
  {
   "cell_type": "markdown",
   "id": "zYdUackl5seN",
   "metadata": {
    "id": "zYdUackl5seN"
   },
   "source": [
    "#### Grid Search"
   ]
  },
  {
   "cell_type": "code",
   "execution_count": null,
   "id": "34neSAIfvcFT",
   "metadata": {
    "colab": {
     "base_uri": "https://localhost:8080/"
    },
    "id": "34neSAIfvcFT",
    "outputId": "539ffe62-3771-4cee-d2a0-e2d667bdd5e1"
   },
   "outputs": [],
   "source": [
    "# Función con hiperparámetros a optimizar\n",
    "def create_model(optimizer='adam', activation = 'relu', hidden_layers=1, hidden_size=8):\n",
    "  # Inicializar el constructor\n",
    "    model = keras.Sequential()\n",
    "      # Capa de entrada\n",
    "    model.add(layers.BatchNormalization(input_shape = input_shape))\n",
    "\n",
    "    if activation == 'relu':\n",
    "      initializer = 'he_normal'\n",
    "    else:\n",
    "      initializer = 'glorot_normal'\n",
    "\n",
    "    for i in range(hidden_layers):\n",
    "        # Capa oculta\n",
    "        model.add(layers.Dense(hidden_size, activation=activation, kernel_initializer=initializer))\n",
    "\n",
    "      # Capa de salida\n",
    "    model.add(layers.Dense(1, activation='sigmoid'))\n",
    "      # Compilar el modelo\n",
    "    model.compile(loss='binary_crossentropy', optimizer=optimizer, metrics=['accuracy'])\n",
    "    return model\n",
    "\n",
    "# Modelo a utilizar como input de la función GridSearchCV\n",
    "modelCV = KerasClassifier(build_fn=create_model, verbose=0)"
   ]
  },
  {
   "cell_type": "code",
   "execution_count": null,
   "id": "NMg0kj2Ov_09",
   "metadata": {
    "colab": {
     "base_uri": "https://localhost:8080/"
    },
    "id": "NMg0kj2Ov_09",
    "outputId": "8a6ac35e-2c35-405d-e6b5-a73f2172c264"
   },
   "outputs": [],
   "source": [
    "# Diccionario con grilla de valores de hiperparámetros\n",
    "param_grid = dict(\n",
    "    hidden_layers = [1, 2], \n",
    "    hidden_size = [8, 16, 32, 64], \n",
    "    activation = ['relu', 'tanh'], \n",
    "    optimizer = ['sgd', 'rmsprop', 'adam'], \n",
    "    batch_size = [10**2], \n",
    "    epochs = [10]\n",
    ")\n",
    "\n",
    "# Implementación de grid search\n",
    "grid = GridSearchCV(estimator=modelCV, param_grid=param_grid, scoring='accuracy')\n",
    "grid_result = grid.fit(X_train, y_train)"
   ]
  },
  {
   "cell_type": "code",
   "execution_count": null,
   "id": "vU7ZIf9g2FAV",
   "metadata": {
    "colab": {
     "base_uri": "https://localhost:8080/"
    },
    "id": "vU7ZIf9g2FAV",
    "outputId": "4dc773e5-479d-4e85-f730-c729d3a51a79"
   },
   "outputs": [],
   "source": [
    "# Imprimir resultados\n",
    "print('Best accuracy:', grid_result.best_score_)\n",
    "grid_result.best_params_"
   ]
  },
  {
   "cell_type": "markdown",
   "id": "28e3ac13",
   "metadata": {
    "id": "28e3ac13"
   },
   "source": [
    "#### Entrenamiento de red"
   ]
  },
  {
   "cell_type": "code",
   "execution_count": null,
   "id": "bfb542a5",
   "metadata": {
    "id": "bfb542a5"
   },
   "outputs": [],
   "source": [
    "# Definir el modelo\n",
    "model = keras.Sequential([\n",
    "    layers.BatchNormalization(input_shape = input_shape),\n",
    "    \n",
    "    layers.Dense(64, activation = 'tanh', kernel_initializer='glorot_normal'),\n",
    "    layers.BatchNormalization(),\n",
    "    \n",
    "    layers.Dense(64, activation = 'tanh', kernel_initializer='glorot_normal'),\n",
    "    layers.BatchNormalization(),\n",
    "    \n",
    "    layers.Dense(1, activation = 'sigmoid')\n",
    "])\n",
    "\n",
    "# Compilar el modelo\n",
    "model.compile(optimizer = 'rmsprop', \n",
    "       loss = keras.losses.BinaryCrossentropy(), \n",
    "       metrics = [keras.metrics.BinaryAccuracy()])"
   ]
  },
  {
   "cell_type": "code",
   "execution_count": null,
   "id": "f240aa77",
   "metadata": {
    "colab": {
     "base_uri": "https://localhost:8080/"
    },
    "id": "f240aa77",
    "outputId": "41521169-566e-4acc-a6da-8a30ea22c456"
   },
   "outputs": [],
   "source": [
    "# Detención temprana\n",
    "early_stopping = keras.callbacks.EarlyStopping(\n",
    "    patience=10,\n",
    "    min_delta=0.001,\n",
    "    restore_best_weights=True,\n",
    ")\n",
    "\n",
    "# Entrenar el modelo\n",
    "history = model.fit(\n",
    "    X_train, y_train,\n",
    "    validation_data=(X_valid, y_valid),\n",
    "    batch_size=10**2,\n",
    "    epochs=50,\n",
    "    callbacks=[early_stopping],\n",
    "    verbose = 0\n",
    ")"
   ]
  },
  {
   "cell_type": "markdown",
   "id": "fzwPvj19kM7Y",
   "metadata": {
    "id": "fzwPvj19kM7Y"
   },
   "source": [
    "#### Guardar modelo"
   ]
  },
  {
   "cell_type": "code",
   "execution_count": null,
   "id": "mXwRyeUXkBX5",
   "metadata": {
    "id": "mXwRyeUXkBX5"
   },
   "outputs": [],
   "source": [
    "model.save(\"model1.h5\")"
   ]
  },
  {
   "cell_type": "markdown",
   "id": "49wOUlfkkZl9",
   "metadata": {
    "id": "49wOUlfkkZl9"
   },
   "source": [
    "#### Cargar modelo"
   ]
  },
  {
   "cell_type": "code",
   "execution_count": null,
   "id": "wn5UnpAwkTIP",
   "metadata": {
    "id": "wn5UnpAwkTIP"
   },
   "outputs": [],
   "source": [
    "from keras.models import load_model\n",
    "model = load_model(\"model1.h5\")"
   ]
  },
  {
   "cell_type": "markdown",
   "id": "dtp0ftXYAJZT",
   "metadata": {
    "id": "dtp0ftXYAJZT"
   },
   "source": [
    "#### Curva ROC"
   ]
  },
  {
   "cell_type": "code",
   "execution_count": null,
   "id": "fsX2reFBExmx",
   "metadata": {
    "colab": {
     "base_uri": "https://localhost:8080/",
     "height": 476
    },
    "id": "fsX2reFBExmx",
    "outputId": "9febcc3b-1967-4687-8107-42b897cc5d15"
   },
   "outputs": [],
   "source": [
    "y_train_pred = model.predict(X_valid)\n",
    "fpr, tpr, thresholds = roc_curve(y_valid, y_train_pred, drop_intermediate=True)\n",
    "roc_auc = auc(fpr, tpr)\n",
    "\n",
    "print(len(fpr))\n",
    "\n",
    "plt.figure(figsize=(8, 6))\n",
    "lw = 5\n",
    "plt.plot(fpr, tpr, color=\"darkorange\", lw=lw, \n",
    "         label=\"Curva ROC (área = %0.2f)\" % roc_auc,)\n",
    "plt.plot([0, 1], [0, 1], color=\"navy\", lw=lw, linestyle=\"--\")\n",
    "plt.xlim([0.0, 1.0])\n",
    "plt.ylim([0.0, 1.05])\n",
    "plt.xlabel(\"1 - Especificidad\")\n",
    "plt.ylabel(\"Sensibilidad\")\n",
    "#plt.title(\"Curva ROC\")\n",
    "plt.legend(loc=\"lower right\")\n",
    "plt.show()"
   ]
  },
  {
   "cell_type": "markdown",
   "id": "663eba14",
   "metadata": {},
   "source": [
    "#### Punto de corte óptimo"
   ]
  },
  {
   "cell_type": "code",
   "execution_count": null,
   "id": "Bl8jcsY7K7N_",
   "metadata": {
    "colab": {
     "base_uri": "https://localhost:8080/"
    },
    "id": "Bl8jcsY7K7N_",
    "outputId": "db29f9e6-1f81-4976-9c88-ec33a6500e51"
   },
   "outputs": [],
   "source": [
    "ROCdf = pd.DataFrame({'fpr': fpr, 'tpr': tpr, 'cutoff': thresholds})\n",
    "\n",
    "# Criterios para seleccionar un punto de corte\n",
    "ROCdf['dist'] = ROCdf.fpr**2 + (1-ROCdf.tpr)**2\n",
    "ROCdf['youden'] =  ROCdf.tpr - ROCdf.fpr\n",
    "ROCdf['diag'] = (ROCdf.tpr + ROCdf.fpr - 1)**2\n",
    "\n",
    "# Punto de corte según cada criterio\n",
    "print(ROCdf[ROCdf.dist == ROCdf.dist.min()])\n",
    "print(ROCdf[ROCdf.youden == ROCdf.youden.max()])\n",
    "print(ROCdf[ROCdf.diag == ROCdf.diag.min()])"
   ]
  },
  {
   "cell_type": "markdown",
   "id": "124a9257",
   "metadata": {},
   "source": [
    "#### Respuesta predicha"
   ]
  },
  {
   "cell_type": "code",
   "execution_count": null,
   "id": "pfkmr5LxtXNM",
   "metadata": {
    "colab": {
     "base_uri": "https://localhost:8080/"
    },
    "id": "pfkmr5LxtXNM",
    "outputId": "0591835c-da99-4717-e2d0-ad319a6cb360"
   },
   "outputs": [],
   "source": [
    "cutoff = float(ROCdf[ROCdf.youden == ROCdf.youden.max()].cutoff)\n",
    "\n",
    "y_pred = model.predict(X_test)\n",
    "y_pred = [1 if y > cutoff else 0 for y in y_pred]\n",
    "\n",
    "# Precisión\n",
    "accuracy_score(y_test, y_pred)"
   ]
  },
  {
   "cell_type": "markdown",
   "id": "78e67194",
   "metadata": {},
   "source": [
    "#### Matriz de confusión"
   ]
  },
  {
   "cell_type": "code",
   "execution_count": null,
   "id": "zlCEB2H4INbe",
   "metadata": {
    "colab": {
     "base_uri": "https://localhost:8080/",
     "height": 458
    },
    "id": "zlCEB2H4INbe",
    "outputId": "18e24a6b-7eae-45a4-a390-d22856cc592b"
   },
   "outputs": [],
   "source": [
    "cf_matrix = [[0.18, 0.13], [0.06, 0.63]]\n",
    "annot_extra = [['(n=2968)', '(n=2068)'], ['(n=940)', '(n=10380)']]\n",
    "vmin = np.min(cf_matrix)\n",
    "vmax = np.max(cf_matrix)\n",
    "\n",
    "fig, ax = plt.subplots(figsize=(9,6))\n",
    "\n",
    "sns.heatmap(cf_matrix, annot=cf_matrix, annot_kws={'size': 40, 'va': 'bottom'}, fmt='.0%', cmap='Blues', vmin=0, vmax=1, cbar=False)\n",
    "sns.heatmap(cf_matrix, annot=annot_extra, annot_kws={'size': 40, 'va': 'top'}, fmt=\"\", cmap='Blues', vmin=0, vmax=1, cbar=False)\n",
    "\n",
    "plt.yticks(rotation=0) \n",
    "\n",
    "ax.set_ylabel('Resolución observada')\n",
    "ax.set_xticklabels(['No natural', 'Natural'])\n",
    "ax.set_yticklabels(['No natural', 'Natural'])\n",
    "ax.set_xlabel('Resolución predicha')"
   ]
  }
 ],
 "metadata": {
  "colab": {
   "provenance": []
  },
  "gpuClass": "standard",
  "kernelspec": {
   "display_name": "Python 3 (ipykernel)",
   "language": "python",
   "name": "python3"
  },
  "language_info": {
   "codemirror_mode": {
    "name": "ipython",
    "version": 3
   },
   "file_extension": ".py",
   "mimetype": "text/x-python",
   "name": "python",
   "nbconvert_exporter": "python",
   "pygments_lexer": "ipython3",
   "version": "3.9.7"
  }
 },
 "nbformat": 4,
 "nbformat_minor": 5
}
